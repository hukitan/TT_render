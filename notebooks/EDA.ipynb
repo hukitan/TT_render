{
 "cells": [
  {
   "cell_type": "code",
   "execution_count": 12,
   "metadata": {},
   "outputs": [],
   "source": [
    "import pandas as pd\n",
    "import plotly.express as px\n",
    "\n",
    "\n",
    "def looks(datos):\n",
    "    \"\"\"Genera un analisis de todo el set de datos de manera gloabal\"\"\"\n",
    "    print(\"Se ejecuta la descripcion de los datos:\")\n",
    "    print(datos.describe(include=\"all\"))\n",
    "    print()\n",
    "    print(\"se hace exploracion con metodo info:\")\n",
    "    datos.info()\n",
    "    print()\n",
    "    print(\"se hace una observacion con el metodo Head:\")\n",
    "    print(datos.head())\n",
    "    print()\n",
    "    print(\"hay NA?:\")\n",
    "    print(datos.isna().sum())\n",
    "    print()\n",
    "    print(\"Duplicados:\")\n",
    "    print(datos.duplicated().sum())"
   ]
  },
  {
   "cell_type": "code",
   "execution_count": 13,
   "metadata": {},
   "outputs": [
    {
     "name": "stdout",
     "output_type": "stream",
     "text": [
      "Se ejecuta la descripcion de los datos:\n"
     ]
    },
    {
     "name": "stderr",
     "output_type": "stream",
     "text": [
      "C:\\Users\\hukit\\AppData\\Local\\Temp\\ipykernel_19920\\1878974670.py:8: FutureWarning: Treating datetime data as categorical rather than numeric in `.describe` is deprecated and will be removed in a future version of pandas. Specify `datetime_is_numeric=True` to silence this warning and adopt the future behavior now.\n",
      "  print(datos.describe(include=\"all\"))\n"
     ]
    },
    {
     "name": "stdout",
     "output_type": "stream",
     "text": [
      "                      fecha     mes           anio    linea   estacion  \\\n",
      "count                819000  800865  819000.000000   819000     819000   \n",
      "unique                 1400      12            NaN       24        163   \n",
      "top     2021-01-01 00:00:00   Enero            NaN  Línea 2  Pantitlán   \n",
      "freq                    585   72540            NaN    83160      16800   \n",
      "first   2021-01-01 00:00:00     NaN            NaN      NaN        NaN   \n",
      "last    2024-10-31 00:00:00     NaN            NaN      NaN        NaN   \n",
      "mean                    NaN     NaN    2022.435714      NaN        NaN   \n",
      "std                     NaN     NaN       1.096819      NaN        NaN   \n",
      "min                     NaN     NaN    2021.000000      NaN        NaN   \n",
      "25%                     NaN     NaN    2021.000000      NaN        NaN   \n",
      "50%                     NaN     NaN    2022.000000      NaN        NaN   \n",
      "75%                     NaN     NaN    2023.000000      NaN        NaN   \n",
      "max                     NaN     NaN    2024.000000      NaN        NaN   \n",
      "\n",
      "       tipo_pago     afluencia          n_mes  \n",
      "count     819000  819000.00000  819000.000000  \n",
      "unique         3           NaN            NaN  \n",
      "top       Boleto           NaN            NaN  \n",
      "freq      273000           NaN            NaN  \n",
      "first        NaN           NaN            NaN  \n",
      "last         NaN           NaN            NaN  \n",
      "mean         NaN    4773.16479       6.305714  \n",
      "std          NaN    7738.33649       3.357207  \n",
      "min          NaN       0.00000       1.000000  \n",
      "25%          NaN     432.00000       3.000000  \n",
      "50%          NaN    2197.00000       6.000000  \n",
      "75%          NaN    5763.00000       9.000000  \n",
      "max          NaN  109905.00000      12.000000  \n",
      "\n",
      "se hace exploracion con metodo info:\n",
      "<class 'pandas.core.frame.DataFrame'>\n",
      "RangeIndex: 819000 entries, 0 to 818999\n",
      "Data columns (total 8 columns):\n",
      " #   Column     Non-Null Count   Dtype         \n",
      "---  ------     --------------   -----         \n",
      " 0   fecha      819000 non-null  datetime64[ns]\n",
      " 1   mes        800865 non-null  object        \n",
      " 2   anio       819000 non-null  int64         \n",
      " 3   linea      819000 non-null  object        \n",
      " 4   estacion   819000 non-null  object        \n",
      " 5   tipo_pago  819000 non-null  object        \n",
      " 6   afluencia  819000 non-null  int64         \n",
      " 7   n_mes      819000 non-null  int64         \n",
      "dtypes: datetime64[ns](1), int64(3), object(4)\n",
      "memory usage: 50.0+ MB\n",
      "\n",
      "se hace una observacion con el metodo Head:\n",
      "       fecha    mes  anio    linea  estacion  tipo_pago  afluencia  n_mes\n",
      "0 2021-01-01  Enero  2021  Línea 1  Balbuena     Boleto       1848      1\n",
      "1 2021-01-01  Enero  2021  Línea 1  Balbuena    Prepago        790      1\n",
      "2 2021-01-01  Enero  2021  Línea 1  Balbuena  Gratuidad        325      1\n",
      "3 2021-01-01  Enero  2021  Línea 1  Balderas     Boleto       1103      1\n",
      "4 2021-01-01  Enero  2021  Línea 1  Balderas    Prepago        922      1\n",
      "\n",
      "hay NA?:\n",
      "fecha            0\n",
      "mes          18135\n",
      "anio             0\n",
      "linea            0\n",
      "estacion         0\n",
      "tipo_pago        0\n",
      "afluencia        0\n",
      "n_mes            0\n",
      "dtype: int64\n",
      "\n",
      "Duplicados:\n",
      "0\n"
     ]
    }
   ],
   "source": [
    "#Se lee el CSV y se hacen algunos ajustes a los datos. Se muestran posteriormente\n",
    "aflue = pd.read_csv(\"../Data/afluenciastc_desglosado_10_2024.csv\")\n",
    "aflue[\"fecha\"] = pd.to_datetime(aflue[\"fecha\"])\n",
    "aflue[\"n_mes\"] = aflue[\"fecha\"].dt.month\n",
    "\n",
    "looks(aflue)\n"
   ]
  },
  {
   "cell_type": "code",
   "execution_count": 14,
   "metadata": {},
   "outputs": [],
   "source": [
    "#Generamos una funcion para corregir los nombres de las lineas\n",
    "def fix_linea(dato):\n",
    "    \"\"\"La funcion lee las lineas y corrgie los casos donde hay un acento para unificarlo en modalidad sin acentos\"\"\"\n",
    "    if dato == \"Línea 1\":\n",
    "        return \"Linea 1\"\n",
    "    elif dato == \"Línea 2\":\n",
    "        return \"Linea 2\"\n",
    "    elif dato == \"Línea 3\":\n",
    "        return \"Linea 3\"\n",
    "    elif dato == \"Línea 4\":\n",
    "        return \"Linea 4\"\n",
    "    elif dato == \"Línea 5\":\n",
    "        return \"Linea 5\"\n",
    "    elif dato == \"Línea 6\":\n",
    "        return \"Linea 6\"\n",
    "    elif dato == \"Línea 7\":\n",
    "        return \"Linea 7\"\n",
    "    elif dato == \"Línea 8\":\n",
    "        return \"Linea 8\"\n",
    "    elif dato == \"Línea 9\":\n",
    "        return \"Linea 9\"\n",
    "    elif dato == \"Línea A\":\n",
    "        return \"Linea A\"\n",
    "    elif dato == \"Línea B\":\n",
    "        return \"Linea B\"\n",
    "    elif dato == \"Línea 12\":\n",
    "        return \"Linea 12\"\n",
    "    else:\n",
    "        return dato\n",
    "\n",
    "\n",
    "aflue[\"linea\"] = aflue[\"linea\"].apply(fix_linea)"
   ]
  },
  {
   "cell_type": "code",
   "execution_count": 15,
   "metadata": {},
   "outputs": [],
   "source": [
    "#Diseñamos una formula para rellenar los datos perdidos de la columna mes\n",
    "\n",
    "def fill_mes(dato):\n",
    "    \"\"\"La funcion recibe un numero de mes y devuelve el nombre del mes\"\"\"\n",
    "    if dato == 12:\n",
    "        return \"Diciembre\"\n",
    "    elif dato == 11:\n",
    "        return \"Noviembre\"\n",
    "    elif dato == 10:\n",
    "        return \"Octubre\"\n",
    "    elif dato == 9:\n",
    "        return \"Septiembre\"\n",
    "    elif dato == 8:\n",
    "        return \"Agosto\"\n",
    "    elif dato == 7:\n",
    "        return \"Julio\"\n",
    "    elif dato == 6:\n",
    "        return \"Junio\"\n",
    "    elif dato == 5:\n",
    "        return \"Mayo\"\n",
    "    elif dato == 4:\n",
    "        return \"Abril\"\n",
    "    elif dato == 3:\n",
    "        return \"Marzo\"\n",
    "    elif dato == 2:\n",
    "        return \"Febrero\"\n",
    "    elif dato == 1:\n",
    "        return \"Enero\"\n",
    "\n",
    "\n",
    "aflue[\"mes\"] = aflue[\"n_mes\"].apply(fill_mes)"
   ]
  },
  {
   "cell_type": "code",
   "execution_count": null,
   "metadata": {},
   "outputs": [],
   "source": [
    "#Se generan codigos de color para poder usar los colores oficiales por linea del metro\n",
    "\n",
    "colores = {\"Linea 1\": \"#F04E98\", \"Linea 2\": \"#005EB8\", \"Linea 3\": \"#AF9800\", \"Linea 4\": \"#6BBBAE\", \"Linea 5\": \"#FFD100\", \"Linea 6\": \"#DA291C\",\n",
    "           \"Linea 7\": \"#E87722\", \"Linea 8\": \"#009A44\", \"Linea 9\": \"#512F2E\", \"Linea A\": \"#981D97\", \"Linea B\": \"#B1B3B3\", \"Linea 12\": \"#B0A32A\"}"
   ]
  },
  {
   "cell_type": "code",
   "execution_count": 30,
   "metadata": {},
   "outputs": [
    {
     "data": {
      "application/vnd.plotly.v1+json": {
       "config": {
        "plotlyServerURL": "https://plot.ly"
       },
       "data": [
        {
         "alignmentgroup": "True",
         "bingroup": "x",
         "hovertemplate": "anio=2021<br>afluencia=%{x}<br>count=%{y}<extra></extra>",
         "legendgroup": "2021",
         "marker": {
          "color": "#636efa",
          "pattern": {
           "shape": ""
          }
         },
         "name": "2021",
         "offsetgroup": "2021",
         "orientation": "v",
         "showlegend": true,
         "type": "histogram",
         "x": [
          62577359,
          67964499,
          84154004,
          41033642,
          50436321,
          69822069,
          63410819,
          65449779,
          62689975,
          78483883,
          78122952,
          70154247
         ],
         "xaxis": "x",
         "yaxis": "y"
        },
        {
         "alignmentgroup": "True",
         "bingroup": "x",
         "hovertemplate": "anio=2022<br>afluencia=%{x}<br>count=%{y}<extra></extra>",
         "legendgroup": "2022",
         "marker": {
          "color": "#EF553B",
          "pattern": {
           "shape": ""
          }
         },
         "name": "2022",
         "offsetgroup": "2022",
         "orientation": "v",
         "showlegend": true,
         "type": "histogram",
         "x": [
          82897274,
          90184617,
          89981293,
          70563670,
          72052555,
          80680662,
          88424030,
          88358374,
          91245641,
          91831197,
          95094480,
          88794502
         ],
         "xaxis": "x",
         "yaxis": "y"
        },
        {
         "alignmentgroup": "True",
         "bingroup": "x",
         "hovertemplate": "anio=2023<br>afluencia=%{x}<br>count=%{y}<extra></extra>",
         "legendgroup": "2023",
         "marker": {
          "color": "#00cc96",
          "pattern": {
           "shape": ""
          }
         },
         "name": "2023",
         "offsetgroup": "2023",
         "orientation": "v",
         "showlegend": true,
         "type": "histogram",
         "x": [
          86639757,
          97667492,
          90759617,
          87266174,
          86696037,
          90692404,
          92973425,
          99399033,
          96485575,
          93718684,
          97568900,
          95458911
         ],
         "xaxis": "x",
         "yaxis": "y"
        },
        {
         "alignmentgroup": "True",
         "bingroup": "x",
         "hovertemplate": "anio=2024<br>afluencia=%{x}<br>count=%{y}<extra></extra>",
         "legendgroup": "2024",
         "marker": {
          "color": "#ab63fa",
          "pattern": {
           "shape": ""
          }
         },
         "name": "2024",
         "offsetgroup": "2024",
         "orientation": "v",
         "showlegend": true,
         "type": "histogram",
         "x": [
          96878736,
          100871754,
          88383838,
          92368691,
          95493323,
          94248064,
          90667167,
          101016462,
          109754838,
          99805237
         ],
         "xaxis": "x",
         "yaxis": "y"
        }
       ],
       "layout": {
        "barmode": "relative",
        "legend": {
         "title": {
          "text": "anio"
         },
         "tracegroupgap": 0
        },
        "template": {
         "data": {
          "bar": [
           {
            "error_x": {
             "color": "#2a3f5f"
            },
            "error_y": {
             "color": "#2a3f5f"
            },
            "marker": {
             "line": {
              "color": "#E5ECF6",
              "width": 0.5
             },
             "pattern": {
              "fillmode": "overlay",
              "size": 10,
              "solidity": 0.2
             }
            },
            "type": "bar"
           }
          ],
          "barpolar": [
           {
            "marker": {
             "line": {
              "color": "#E5ECF6",
              "width": 0.5
             },
             "pattern": {
              "fillmode": "overlay",
              "size": 10,
              "solidity": 0.2
             }
            },
            "type": "barpolar"
           }
          ],
          "carpet": [
           {
            "aaxis": {
             "endlinecolor": "#2a3f5f",
             "gridcolor": "white",
             "linecolor": "white",
             "minorgridcolor": "white",
             "startlinecolor": "#2a3f5f"
            },
            "baxis": {
             "endlinecolor": "#2a3f5f",
             "gridcolor": "white",
             "linecolor": "white",
             "minorgridcolor": "white",
             "startlinecolor": "#2a3f5f"
            },
            "type": "carpet"
           }
          ],
          "choropleth": [
           {
            "colorbar": {
             "outlinewidth": 0,
             "ticks": ""
            },
            "type": "choropleth"
           }
          ],
          "contour": [
           {
            "colorbar": {
             "outlinewidth": 0,
             "ticks": ""
            },
            "colorscale": [
             [
              0,
              "#0d0887"
             ],
             [
              0.1111111111111111,
              "#46039f"
             ],
             [
              0.2222222222222222,
              "#7201a8"
             ],
             [
              0.3333333333333333,
              "#9c179e"
             ],
             [
              0.4444444444444444,
              "#bd3786"
             ],
             [
              0.5555555555555556,
              "#d8576b"
             ],
             [
              0.6666666666666666,
              "#ed7953"
             ],
             [
              0.7777777777777778,
              "#fb9f3a"
             ],
             [
              0.8888888888888888,
              "#fdca26"
             ],
             [
              1,
              "#f0f921"
             ]
            ],
            "type": "contour"
           }
          ],
          "contourcarpet": [
           {
            "colorbar": {
             "outlinewidth": 0,
             "ticks": ""
            },
            "type": "contourcarpet"
           }
          ],
          "heatmap": [
           {
            "colorbar": {
             "outlinewidth": 0,
             "ticks": ""
            },
            "colorscale": [
             [
              0,
              "#0d0887"
             ],
             [
              0.1111111111111111,
              "#46039f"
             ],
             [
              0.2222222222222222,
              "#7201a8"
             ],
             [
              0.3333333333333333,
              "#9c179e"
             ],
             [
              0.4444444444444444,
              "#bd3786"
             ],
             [
              0.5555555555555556,
              "#d8576b"
             ],
             [
              0.6666666666666666,
              "#ed7953"
             ],
             [
              0.7777777777777778,
              "#fb9f3a"
             ],
             [
              0.8888888888888888,
              "#fdca26"
             ],
             [
              1,
              "#f0f921"
             ]
            ],
            "type": "heatmap"
           }
          ],
          "heatmapgl": [
           {
            "colorbar": {
             "outlinewidth": 0,
             "ticks": ""
            },
            "colorscale": [
             [
              0,
              "#0d0887"
             ],
             [
              0.1111111111111111,
              "#46039f"
             ],
             [
              0.2222222222222222,
              "#7201a8"
             ],
             [
              0.3333333333333333,
              "#9c179e"
             ],
             [
              0.4444444444444444,
              "#bd3786"
             ],
             [
              0.5555555555555556,
              "#d8576b"
             ],
             [
              0.6666666666666666,
              "#ed7953"
             ],
             [
              0.7777777777777778,
              "#fb9f3a"
             ],
             [
              0.8888888888888888,
              "#fdca26"
             ],
             [
              1,
              "#f0f921"
             ]
            ],
            "type": "heatmapgl"
           }
          ],
          "histogram": [
           {
            "marker": {
             "pattern": {
              "fillmode": "overlay",
              "size": 10,
              "solidity": 0.2
             }
            },
            "type": "histogram"
           }
          ],
          "histogram2d": [
           {
            "colorbar": {
             "outlinewidth": 0,
             "ticks": ""
            },
            "colorscale": [
             [
              0,
              "#0d0887"
             ],
             [
              0.1111111111111111,
              "#46039f"
             ],
             [
              0.2222222222222222,
              "#7201a8"
             ],
             [
              0.3333333333333333,
              "#9c179e"
             ],
             [
              0.4444444444444444,
              "#bd3786"
             ],
             [
              0.5555555555555556,
              "#d8576b"
             ],
             [
              0.6666666666666666,
              "#ed7953"
             ],
             [
              0.7777777777777778,
              "#fb9f3a"
             ],
             [
              0.8888888888888888,
              "#fdca26"
             ],
             [
              1,
              "#f0f921"
             ]
            ],
            "type": "histogram2d"
           }
          ],
          "histogram2dcontour": [
           {
            "colorbar": {
             "outlinewidth": 0,
             "ticks": ""
            },
            "colorscale": [
             [
              0,
              "#0d0887"
             ],
             [
              0.1111111111111111,
              "#46039f"
             ],
             [
              0.2222222222222222,
              "#7201a8"
             ],
             [
              0.3333333333333333,
              "#9c179e"
             ],
             [
              0.4444444444444444,
              "#bd3786"
             ],
             [
              0.5555555555555556,
              "#d8576b"
             ],
             [
              0.6666666666666666,
              "#ed7953"
             ],
             [
              0.7777777777777778,
              "#fb9f3a"
             ],
             [
              0.8888888888888888,
              "#fdca26"
             ],
             [
              1,
              "#f0f921"
             ]
            ],
            "type": "histogram2dcontour"
           }
          ],
          "mesh3d": [
           {
            "colorbar": {
             "outlinewidth": 0,
             "ticks": ""
            },
            "type": "mesh3d"
           }
          ],
          "parcoords": [
           {
            "line": {
             "colorbar": {
              "outlinewidth": 0,
              "ticks": ""
             }
            },
            "type": "parcoords"
           }
          ],
          "pie": [
           {
            "automargin": true,
            "type": "pie"
           }
          ],
          "scatter": [
           {
            "fillpattern": {
             "fillmode": "overlay",
             "size": 10,
             "solidity": 0.2
            },
            "type": "scatter"
           }
          ],
          "scatter3d": [
           {
            "line": {
             "colorbar": {
              "outlinewidth": 0,
              "ticks": ""
             }
            },
            "marker": {
             "colorbar": {
              "outlinewidth": 0,
              "ticks": ""
             }
            },
            "type": "scatter3d"
           }
          ],
          "scattercarpet": [
           {
            "marker": {
             "colorbar": {
              "outlinewidth": 0,
              "ticks": ""
             }
            },
            "type": "scattercarpet"
           }
          ],
          "scattergeo": [
           {
            "marker": {
             "colorbar": {
              "outlinewidth": 0,
              "ticks": ""
             }
            },
            "type": "scattergeo"
           }
          ],
          "scattergl": [
           {
            "marker": {
             "colorbar": {
              "outlinewidth": 0,
              "ticks": ""
             }
            },
            "type": "scattergl"
           }
          ],
          "scattermapbox": [
           {
            "marker": {
             "colorbar": {
              "outlinewidth": 0,
              "ticks": ""
             }
            },
            "type": "scattermapbox"
           }
          ],
          "scatterpolar": [
           {
            "marker": {
             "colorbar": {
              "outlinewidth": 0,
              "ticks": ""
             }
            },
            "type": "scatterpolar"
           }
          ],
          "scatterpolargl": [
           {
            "marker": {
             "colorbar": {
              "outlinewidth": 0,
              "ticks": ""
             }
            },
            "type": "scatterpolargl"
           }
          ],
          "scatterternary": [
           {
            "marker": {
             "colorbar": {
              "outlinewidth": 0,
              "ticks": ""
             }
            },
            "type": "scatterternary"
           }
          ],
          "surface": [
           {
            "colorbar": {
             "outlinewidth": 0,
             "ticks": ""
            },
            "colorscale": [
             [
              0,
              "#0d0887"
             ],
             [
              0.1111111111111111,
              "#46039f"
             ],
             [
              0.2222222222222222,
              "#7201a8"
             ],
             [
              0.3333333333333333,
              "#9c179e"
             ],
             [
              0.4444444444444444,
              "#bd3786"
             ],
             [
              0.5555555555555556,
              "#d8576b"
             ],
             [
              0.6666666666666666,
              "#ed7953"
             ],
             [
              0.7777777777777778,
              "#fb9f3a"
             ],
             [
              0.8888888888888888,
              "#fdca26"
             ],
             [
              1,
              "#f0f921"
             ]
            ],
            "type": "surface"
           }
          ],
          "table": [
           {
            "cells": {
             "fill": {
              "color": "#EBF0F8"
             },
             "line": {
              "color": "white"
             }
            },
            "header": {
             "fill": {
              "color": "#C8D4E3"
             },
             "line": {
              "color": "white"
             }
            },
            "type": "table"
           }
          ]
         },
         "layout": {
          "annotationdefaults": {
           "arrowcolor": "#2a3f5f",
           "arrowhead": 0,
           "arrowwidth": 1
          },
          "autotypenumbers": "strict",
          "coloraxis": {
           "colorbar": {
            "outlinewidth": 0,
            "ticks": ""
           }
          },
          "colorscale": {
           "diverging": [
            [
             0,
             "#8e0152"
            ],
            [
             0.1,
             "#c51b7d"
            ],
            [
             0.2,
             "#de77ae"
            ],
            [
             0.3,
             "#f1b6da"
            ],
            [
             0.4,
             "#fde0ef"
            ],
            [
             0.5,
             "#f7f7f7"
            ],
            [
             0.6,
             "#e6f5d0"
            ],
            [
             0.7,
             "#b8e186"
            ],
            [
             0.8,
             "#7fbc41"
            ],
            [
             0.9,
             "#4d9221"
            ],
            [
             1,
             "#276419"
            ]
           ],
           "sequential": [
            [
             0,
             "#0d0887"
            ],
            [
             0.1111111111111111,
             "#46039f"
            ],
            [
             0.2222222222222222,
             "#7201a8"
            ],
            [
             0.3333333333333333,
             "#9c179e"
            ],
            [
             0.4444444444444444,
             "#bd3786"
            ],
            [
             0.5555555555555556,
             "#d8576b"
            ],
            [
             0.6666666666666666,
             "#ed7953"
            ],
            [
             0.7777777777777778,
             "#fb9f3a"
            ],
            [
             0.8888888888888888,
             "#fdca26"
            ],
            [
             1,
             "#f0f921"
            ]
           ],
           "sequentialminus": [
            [
             0,
             "#0d0887"
            ],
            [
             0.1111111111111111,
             "#46039f"
            ],
            [
             0.2222222222222222,
             "#7201a8"
            ],
            [
             0.3333333333333333,
             "#9c179e"
            ],
            [
             0.4444444444444444,
             "#bd3786"
            ],
            [
             0.5555555555555556,
             "#d8576b"
            ],
            [
             0.6666666666666666,
             "#ed7953"
            ],
            [
             0.7777777777777778,
             "#fb9f3a"
            ],
            [
             0.8888888888888888,
             "#fdca26"
            ],
            [
             1,
             "#f0f921"
            ]
           ]
          },
          "colorway": [
           "#636efa",
           "#EF553B",
           "#00cc96",
           "#ab63fa",
           "#FFA15A",
           "#19d3f3",
           "#FF6692",
           "#B6E880",
           "#FF97FF",
           "#FECB52"
          ],
          "font": {
           "color": "#2a3f5f"
          },
          "geo": {
           "bgcolor": "white",
           "lakecolor": "white",
           "landcolor": "#E5ECF6",
           "showlakes": true,
           "showland": true,
           "subunitcolor": "white"
          },
          "hoverlabel": {
           "align": "left"
          },
          "hovermode": "closest",
          "mapbox": {
           "style": "light"
          },
          "paper_bgcolor": "white",
          "plot_bgcolor": "#E5ECF6",
          "polar": {
           "angularaxis": {
            "gridcolor": "white",
            "linecolor": "white",
            "ticks": ""
           },
           "bgcolor": "#E5ECF6",
           "radialaxis": {
            "gridcolor": "white",
            "linecolor": "white",
            "ticks": ""
           }
          },
          "scene": {
           "xaxis": {
            "backgroundcolor": "#E5ECF6",
            "gridcolor": "white",
            "gridwidth": 2,
            "linecolor": "white",
            "showbackground": true,
            "ticks": "",
            "zerolinecolor": "white"
           },
           "yaxis": {
            "backgroundcolor": "#E5ECF6",
            "gridcolor": "white",
            "gridwidth": 2,
            "linecolor": "white",
            "showbackground": true,
            "ticks": "",
            "zerolinecolor": "white"
           },
           "zaxis": {
            "backgroundcolor": "#E5ECF6",
            "gridcolor": "white",
            "gridwidth": 2,
            "linecolor": "white",
            "showbackground": true,
            "ticks": "",
            "zerolinecolor": "white"
           }
          },
          "shapedefaults": {
           "line": {
            "color": "#2a3f5f"
           }
          },
          "ternary": {
           "aaxis": {
            "gridcolor": "white",
            "linecolor": "white",
            "ticks": ""
           },
           "baxis": {
            "gridcolor": "white",
            "linecolor": "white",
            "ticks": ""
           },
           "bgcolor": "#E5ECF6",
           "caxis": {
            "gridcolor": "white",
            "linecolor": "white",
            "ticks": ""
           }
          },
          "title": {
           "x": 0.05
          },
          "xaxis": {
           "automargin": true,
           "gridcolor": "white",
           "linecolor": "white",
           "ticks": "",
           "title": {
            "standoff": 15
           },
           "zerolinecolor": "white",
           "zerolinewidth": 2
          },
          "yaxis": {
           "automargin": true,
           "gridcolor": "white",
           "linecolor": "white",
           "ticks": "",
           "title": {
            "standoff": 15
           },
           "zerolinecolor": "white",
           "zerolinewidth": 2
          }
         }
        },
        "title": {
         "text": "Afluencia agrupada por año"
        },
        "xaxis": {
         "anchor": "y",
         "domain": [
          0,
          1
         ],
         "title": {
          "text": "afluencia"
         }
        },
        "yaxis": {
         "anchor": "x",
         "domain": [
          0,
          1
         ],
         "title": {
          "text": "count"
         }
        }
       }
      }
     },
     "metadata": {},
     "output_type": "display_data"
    }
   ],
   "source": [
    "graf1d = aflue.pivot_table(index=[\"anio\",\"mes\"], values= \"afluencia\", aggfunc=\"sum\").reset_index()\n",
    "\n",
    "fig = px.histogram(graf1d, x=\"afluencia\", color=\"anio\",title=\"Afluencia agrupada por año\")  # crear un histograma\n",
    "fig.show()  # crear gráfico de dispersión\n",
    "\n",
    "del graf1d"
   ]
  },
  {
   "cell_type": "code",
   "execution_count": null,
   "metadata": {},
   "outputs": [
    {
     "data": {
      "text/html": [
       "<div>\n",
       "<style scoped>\n",
       "    .dataframe tbody tr th:only-of-type {\n",
       "        vertical-align: middle;\n",
       "    }\n",
       "\n",
       "    .dataframe tbody tr th {\n",
       "        vertical-align: top;\n",
       "    }\n",
       "\n",
       "    .dataframe thead th {\n",
       "        text-align: right;\n",
       "    }\n",
       "</style>\n",
       "<table border=\"1\" class=\"dataframe\">\n",
       "  <thead>\n",
       "    <tr style=\"text-align: right;\">\n",
       "      <th>tipo_pago</th>\n",
       "      <th>anio</th>\n",
       "      <th>mes</th>\n",
       "      <th>linea</th>\n",
       "      <th>Gratuidad</th>\n",
       "      <th>de_pago</th>\n",
       "    </tr>\n",
       "  </thead>\n",
       "  <tbody>\n",
       "    <tr>\n",
       "      <th>13</th>\n",
       "      <td>2021</td>\n",
       "      <td>Agosto</td>\n",
       "      <td>Linea 12</td>\n",
       "      <td>0</td>\n",
       "      <td>0</td>\n",
       "    </tr>\n",
       "    <tr>\n",
       "      <th>25</th>\n",
       "      <td>2021</td>\n",
       "      <td>Diciembre</td>\n",
       "      <td>Linea 12</td>\n",
       "      <td>0</td>\n",
       "      <td>0</td>\n",
       "    </tr>\n",
       "    <tr>\n",
       "      <th>61</th>\n",
       "      <td>2021</td>\n",
       "      <td>Julio</td>\n",
       "      <td>Linea 12</td>\n",
       "      <td>0</td>\n",
       "      <td>0</td>\n",
       "    </tr>\n",
       "    <tr>\n",
       "      <th>73</th>\n",
       "      <td>2021</td>\n",
       "      <td>Junio</td>\n",
       "      <td>Linea 12</td>\n",
       "      <td>0</td>\n",
       "      <td>0</td>\n",
       "    </tr>\n",
       "    <tr>\n",
       "      <th>109</th>\n",
       "      <td>2021</td>\n",
       "      <td>Noviembre</td>\n",
       "      <td>Linea 12</td>\n",
       "      <td>0</td>\n",
       "      <td>0</td>\n",
       "    </tr>\n",
       "    <tr>\n",
       "      <th>121</th>\n",
       "      <td>2021</td>\n",
       "      <td>Octubre</td>\n",
       "      <td>Linea 12</td>\n",
       "      <td>0</td>\n",
       "      <td>0</td>\n",
       "    </tr>\n",
       "    <tr>\n",
       "      <th>133</th>\n",
       "      <td>2021</td>\n",
       "      <td>Septiembre</td>\n",
       "      <td>Linea 12</td>\n",
       "      <td>0</td>\n",
       "      <td>0</td>\n",
       "    </tr>\n",
       "    <tr>\n",
       "      <th>145</th>\n",
       "      <td>2022</td>\n",
       "      <td>Abril</td>\n",
       "      <td>Linea 12</td>\n",
       "      <td>0</td>\n",
       "      <td>0</td>\n",
       "    </tr>\n",
       "    <tr>\n",
       "      <th>157</th>\n",
       "      <td>2022</td>\n",
       "      <td>Agosto</td>\n",
       "      <td>Linea 12</td>\n",
       "      <td>0</td>\n",
       "      <td>0</td>\n",
       "    </tr>\n",
       "    <tr>\n",
       "      <th>169</th>\n",
       "      <td>2022</td>\n",
       "      <td>Diciembre</td>\n",
       "      <td>Linea 12</td>\n",
       "      <td>0</td>\n",
       "      <td>0</td>\n",
       "    </tr>\n",
       "    <tr>\n",
       "      <th>181</th>\n",
       "      <td>2022</td>\n",
       "      <td>Enero</td>\n",
       "      <td>Linea 12</td>\n",
       "      <td>0</td>\n",
       "      <td>0</td>\n",
       "    </tr>\n",
       "    <tr>\n",
       "      <th>193</th>\n",
       "      <td>2022</td>\n",
       "      <td>Febrero</td>\n",
       "      <td>Linea 12</td>\n",
       "      <td>0</td>\n",
       "      <td>0</td>\n",
       "    </tr>\n",
       "    <tr>\n",
       "      <th>205</th>\n",
       "      <td>2022</td>\n",
       "      <td>Julio</td>\n",
       "      <td>Linea 12</td>\n",
       "      <td>0</td>\n",
       "      <td>0</td>\n",
       "    </tr>\n",
       "    <tr>\n",
       "      <th>217</th>\n",
       "      <td>2022</td>\n",
       "      <td>Junio</td>\n",
       "      <td>Linea 12</td>\n",
       "      <td>0</td>\n",
       "      <td>0</td>\n",
       "    </tr>\n",
       "    <tr>\n",
       "      <th>229</th>\n",
       "      <td>2022</td>\n",
       "      <td>Marzo</td>\n",
       "      <td>Linea 12</td>\n",
       "      <td>0</td>\n",
       "      <td>0</td>\n",
       "    </tr>\n",
       "    <tr>\n",
       "      <th>241</th>\n",
       "      <td>2022</td>\n",
       "      <td>Mayo</td>\n",
       "      <td>Linea 12</td>\n",
       "      <td>0</td>\n",
       "      <td>0</td>\n",
       "    </tr>\n",
       "    <tr>\n",
       "      <th>253</th>\n",
       "      <td>2022</td>\n",
       "      <td>Noviembre</td>\n",
       "      <td>Linea 12</td>\n",
       "      <td>0</td>\n",
       "      <td>0</td>\n",
       "    </tr>\n",
       "    <tr>\n",
       "      <th>265</th>\n",
       "      <td>2022</td>\n",
       "      <td>Octubre</td>\n",
       "      <td>Linea 12</td>\n",
       "      <td>0</td>\n",
       "      <td>0</td>\n",
       "    </tr>\n",
       "    <tr>\n",
       "      <th>277</th>\n",
       "      <td>2022</td>\n",
       "      <td>Septiembre</td>\n",
       "      <td>Linea 12</td>\n",
       "      <td>0</td>\n",
       "      <td>0</td>\n",
       "    </tr>\n",
       "  </tbody>\n",
       "</table>\n",
       "</div>"
      ],
      "text/plain": [
       "tipo_pago  anio         mes     linea  Gratuidad  de_pago\n",
       "13         2021      Agosto  Linea 12          0        0\n",
       "25         2021   Diciembre  Linea 12          0        0\n",
       "61         2021       Julio  Linea 12          0        0\n",
       "73         2021       Junio  Linea 12          0        0\n",
       "109        2021   Noviembre  Linea 12          0        0\n",
       "121        2021     Octubre  Linea 12          0        0\n",
       "133        2021  Septiembre  Linea 12          0        0\n",
       "145        2022       Abril  Linea 12          0        0\n",
       "157        2022      Agosto  Linea 12          0        0\n",
       "169        2022   Diciembre  Linea 12          0        0\n",
       "181        2022       Enero  Linea 12          0        0\n",
       "193        2022     Febrero  Linea 12          0        0\n",
       "205        2022       Julio  Linea 12          0        0\n",
       "217        2022       Junio  Linea 12          0        0\n",
       "229        2022       Marzo  Linea 12          0        0\n",
       "241        2022        Mayo  Linea 12          0        0\n",
       "253        2022   Noviembre  Linea 12          0        0\n",
       "265        2022     Octubre  Linea 12          0        0\n",
       "277        2022  Septiembre  Linea 12          0        0"
      ]
     },
     "execution_count": 27,
     "metadata": {},
     "output_type": "execute_result"
    }
   ],
   "source": [
    "graf2d = aflue.pivot_table(index=[\"anio\", \"mes\", \"linea\"],columns=\"tipo_pago\", values=\"afluencia\", aggfunc=\"sum\").reset_index()\n",
    "graf2d[\"de_pago\"] = graf2d[\"Boleto\"] + graf2d[\"Prepago\"]\n",
    "graf2d = graf2d.drop(columns=['Boleto', \"Prepago\"])"
   ]
  },
  {
   "cell_type": "code",
   "execution_count": 24,
   "metadata": {},
   "outputs": [
    {
     "data": {
      "application/vnd.plotly.v1+json": {
       "config": {
        "plotlyServerURL": "https://plot.ly"
       },
       "data": [
        {
         "hovertemplate": "linea=Linea 1<br>de_pago=%{x}<br>Gratuidad=%{y}<extra></extra>",
         "legendgroup": "Linea 1",
         "marker": {
          "color": "#F04E98",
          "symbol": "circle"
         },
         "mode": "markers",
         "name": "Linea 1",
         "orientation": "v",
         "showlegend": true,
         "type": "scatter",
         "x": [
          9231375,
          11189357,
          12278063,
          3488072,
          7243314,
          10969233,
          10396109,
          9560341,
          9794677,
          11196101,
          11240130,
          10965312,
          11299021,
          4081881,
          3844351,
          10293595,
          10226524,
          5888255,
          11712058,
          12128305,
          12005129,
          3911762,
          4270933,
          4005368,
          3896411,
          4438605,
          4366240,
          4014464,
          3652733,
          4224541,
          4192826,
          4243610,
          4226327,
          4636956,
          4821616,
          4387381,
          3931202,
          4602679,
          4060423,
          3618945,
          4375685,
          4113334,
          3797611,
          4096690,
          5545746,
          4638006
         ],
         "xaxis": "x",
         "y": [
          552699,
          902644,
          1606422,
          403600,
          512592,
          903490,
          364754,
          539530,
          520405,
          1340157,
          1519819,
          1295137,
          1727652,
          503958,
          873305,
          1617310,
          1343262,
          827408,
          1749650,
          1719631,
          1724017,
          798095,
          825783,
          584657,
          946569,
          1023159,
          1002375,
          973248,
          971088,
          1013055,
          1081079,
          1066768,
          1084945,
          1093314,
          1030460,
          939779,
          1053603,
          1059965,
          1092823,
          1090442,
          1052740,
          982112,
          1131242,
          1017622,
          1323172,
          1153885
         ],
         "yaxis": "y"
        },
        {
         "hovertemplate": "linea=Linea 12<br>de_pago=%{x}<br>Gratuidad=%{y}<extra></extra>",
         "legendgroup": "Linea 12",
         "marker": {
          "color": "#B0A32A",
          "symbol": "circle"
         },
         "mode": "markers",
         "name": "Linea 12",
         "orientation": "v",
         "showlegend": true,
         "type": "scatter",
         "x": [
          5221701,
          0,
          0,
          4164318,
          4267158,
          0,
          0,
          5679260,
          410042,
          0,
          0,
          0,
          0,
          0,
          0,
          0,
          0,
          0,
          0,
          0,
          0,
          0,
          0,
          0,
          2330395,
          4471313,
          4518682,
          1122093,
          2147568,
          3280634,
          2647763,
          2574143,
          2722834,
          4918078,
          5077805,
          4669102,
          7811017,
          8473176,
          4742522,
          7120920,
          7968764,
          7738173,
          7270102,
          8126677,
          9104561,
          8372403
         ],
         "xaxis": "x",
         "y": [
          448227,
          0,
          0,
          1036075,
          351157,
          0,
          0,
          442484,
          50936,
          0,
          0,
          0,
          0,
          0,
          0,
          0,
          0,
          0,
          0,
          0,
          0,
          0,
          0,
          0,
          334721,
          583930,
          519593,
          230119,
          413884,
          490880,
          398645,
          435040,
          384447,
          581917,
          604719,
          559957,
          1030555,
          1057424,
          540082,
          942603,
          1032772,
          1001661,
          952391,
          1086004,
          1106045,
          1043278
         ],
         "yaxis": "y"
        },
        {
         "hovertemplate": "linea=Linea 2<br>de_pago=%{x}<br>Gratuidad=%{y}<extra></extra>",
         "legendgroup": "Linea 2",
         "marker": {
          "color": "#005EB8",
          "symbol": "circle"
         },
         "mode": "markers",
         "name": "Linea 2",
         "orientation": "v",
         "showlegend": true,
         "type": "scatter",
         "x": [
          8241843,
          8729062,
          11918685,
          1690209,
          4853862,
          9735654,
          9365126,
          8626187,
          8664089,
          10801190,
          10689762,
          8959057,
          12056374,
          14787458,
          14992915,
          9684461,
          10380252,
          12459528,
          12755059,
          12824793,
          13306986,
          15133461,
          15533561,
          14001610,
          13753361,
          15874679,
          14376054,
          13308077,
          13506576,
          14892617,
          15194531,
          15827292,
          15525025,
          15256908,
          15518997,
          15177359,
          14568131,
          16035815,
          13664615,
          13712978,
          15468022,
          15261868,
          13244277,
          16021109,
          17248085,
          15405462
         ],
         "xaxis": "x",
         "y": [
          664254,
          1225657,
          1393054,
          193444,
          406829,
          1412367,
          522094,
          518337,
          681509,
          1412145,
          1500575,
          1326462,
          1452098,
          1649268,
          1799460,
          1294001,
          1137741,
          1615946,
          1587605,
          1438768,
          1644208,
          1883940,
          1894203,
          1834625,
          1608371,
          1873277,
          1392945,
          1693375,
          1540119,
          1964134,
          1954106,
          1787605,
          1905641,
          1607147,
          1534701,
          1747017,
          2382686,
          2703991,
          1647189,
          1914347,
          2566264,
          2366068,
          2329269,
          2483472,
          2822347,
          2579550
         ],
         "yaxis": "y"
        },
        {
         "hovertemplate": "linea=Linea 3<br>de_pago=%{x}<br>Gratuidad=%{y}<extra></extra>",
         "legendgroup": "Linea 3",
         "marker": {
          "color": "#AF9800",
          "symbol": "circle"
         },
         "mode": "markers",
         "name": "Linea 3",
         "orientation": "v",
         "showlegend": true,
         "type": "scatter",
         "x": [
          7484214,
          8842030,
          10518377,
          1593936,
          5463520,
          8964190,
          8681974,
          7601640,
          8171172,
          10065948,
          10083011,
          8974315,
          10916052,
          14078203,
          12709772,
          8915478,
          9378388,
          11222914,
          11519527,
          11886713,
          12152500,
          13831816,
          14382944,
          13644538,
          12197164,
          13571390,
          11213066,
          12018373,
          12527501,
          11927763,
          12867903,
          14340568,
          13695608,
          12443390,
          13218652,
          12835149,
          12751400,
          13489697,
          11655510,
          12226013,
          12097527,
          12263139,
          11004375,
          13459129,
          14321834,
          13273407
         ],
         "xaxis": "x",
         "y": [
          681511,
          1129209,
          1462340,
          204325,
          462147,
          1028454,
          511303,
          645884,
          948073,
          1400307,
          1319525,
          1297179,
          1339231,
          1861179,
          1769739,
          1313486,
          1134181,
          1601015,
          1657898,
          1431569,
          1635186,
          1857632,
          1977085,
          1909540,
          1644443,
          1808203,
          1369244,
          1735892,
          1683213,
          1745036,
          1806718,
          1928014,
          1831559,
          1282889,
          1375195,
          1337286,
          1769799,
          1706237,
          1595880,
          1822207,
          1697297,
          1677987,
          1622861,
          1785816,
          1831403,
          1776377
         ],
         "yaxis": "y"
        },
        {
         "hovertemplate": "linea=Linea 4<br>de_pago=%{x}<br>Gratuidad=%{y}<extra></extra>",
         "legendgroup": "Linea 4",
         "marker": {
          "color": "#6BBBAE",
          "symbol": "circle"
         },
         "mode": "markers",
         "name": "Linea 4",
         "orientation": "v",
         "showlegend": true,
         "type": "scatter",
         "x": [
          936210,
          1160636,
          1499115,
          837337,
          825474,
          1183691,
          1014917,
          961512,
          929855,
          1356030,
          1424311,
          1201637,
          1435035,
          1871227,
          1917045,
          1165014,
          1224082,
          1598177,
          1534664,
          1553748,
          1578525,
          1719862,
          1920546,
          1836537,
          1752188,
          1840673,
          1790412,
          1784433,
          1641224,
          1808636,
          1804062,
          1945071,
          1896745,
          1835301,
          2000273,
          1888373,
          1713772,
          1798573,
          1616274,
          1719843,
          1708020,
          1676507,
          1730300,
          1805194,
          1996469,
          1782343
         ],
         "xaxis": "x",
         "y": [
          171245,
          232198,
          296953,
          123448,
          150595,
          251954,
          112119,
          179910,
          217429,
          301140,
          303470,
          261456,
          296080,
          390295,
          412604,
          255434,
          231433,
          346542,
          315092,
          301657,
          311195,
          383829,
          417472,
          376311,
          369158,
          413649,
          224014,
          393229,
          372450,
          379418,
          395605,
          431756,
          414103,
          311917,
          404500,
          421295,
          245044,
          353972,
          263565,
          295963,
          315779,
          303436,
          255348,
          321618,
          327106,
          312176
         ],
         "yaxis": "y"
        },
        {
         "hovertemplate": "linea=Linea 5<br>de_pago=%{x}<br>Gratuidad=%{y}<extra></extra>",
         "legendgroup": "Linea 5",
         "marker": {
          "color": "#FFD100",
          "symbol": "circle"
         },
         "mode": "markers",
         "name": "Linea 5",
         "orientation": "v",
         "showlegend": true,
         "type": "scatter",
         "x": [
          3092687,
          3360708,
          4147779,
          2268656,
          2569831,
          3417671,
          3314909,
          3213052,
          3271082,
          3805382,
          3760149,
          3393146,
          4136608,
          4388758,
          4398862,
          3531339,
          3632685,
          3806305,
          4257706,
          4557774,
          4486453,
          4382712,
          4508415,
          4251962,
          4279959,
          4508438,
          4420492,
          4215568,
          4181393,
          4194588,
          4423059,
          4910577,
          4692464,
          4459373,
          3968187,
          4898643,
          4478730,
          4446375,
          4196589,
          4341512,
          4185612,
          4217310,
          4359911,
          4591351,
          4612173,
          4546707
         ],
         "xaxis": "x",
         "y": [
          281712,
          426644,
          446878,
          257672,
          278837,
          380153,
          239814,
          294863,
          444534,
          471966,
          484375,
          447001,
          452251,
          527794,
          547839,
          416346,
          263221,
          489919,
          437036,
          467064,
          467045,
          548748,
          550638,
          518705,
          510858,
          589634,
          597453,
          559839,
          521558,
          562590,
          548120,
          584065,
          583609,
          612555,
          533831,
          537992,
          611454,
          626210,
          599122,
          618220,
          578242,
          539973,
          613967,
          650803,
          627844,
          610213
         ],
         "yaxis": "y"
        },
        {
         "hovertemplate": "linea=Linea 6<br>de_pago=%{x}<br>Gratuidad=%{y}<extra></extra>",
         "legendgroup": "Linea 6",
         "marker": {
          "color": "#DA291C",
          "symbol": "circle"
         },
         "mode": "markers",
         "name": "Linea 6",
         "orientation": "v",
         "showlegend": true,
         "type": "scatter",
         "x": [
          1565599,
          1808620,
          2365414,
          1147041,
          1242228,
          1914776,
          1868997,
          1575450,
          1764914,
          2191297,
          2118582,
          1872012,
          2311064,
          3074665,
          3002493,
          2031157,
          2165669,
          2442747,
          2665548,
          2584940,
          2693036,
          3074978,
          3092723,
          2999678,
          2713731,
          2793853,
          2942715,
          2928741,
          2896869,
          2732282,
          3031005,
          3256938,
          3103306,
          3084944,
          3325636,
          3166987,
          2960645,
          2866319,
          2834074,
          2963579,
          2721601,
          2788979,
          2858271,
          3056592,
          3215699,
          2989643
         ],
         "xaxis": "x",
         "y": [
          151892,
          141803,
          240978,
          124495,
          121505,
          193225,
          112586,
          163749,
          189379,
          231164,
          226910,
          200829,
          280827,
          337136,
          351049,
          223056,
          201005,
          303390,
          303950,
          271141,
          317054,
          363353,
          322410,
          334616,
          317428,
          349657,
          219109,
          352188,
          334393,
          341916,
          344311,
          368719,
          352237,
          300207,
          378839,
          347213,
          332151,
          309452,
          270942,
          331511,
          314675,
          312655,
          334452,
          342891,
          324219,
          314064
         ],
         "yaxis": "y"
        },
        {
         "hovertemplate": "linea=Linea 7<br>de_pago=%{x}<br>Gratuidad=%{y}<extra></extra>",
         "legendgroup": "Linea 7",
         "marker": {
          "color": "#E87722",
          "symbol": "circle"
         },
         "mode": "markers",
         "name": "Linea 7",
         "orientation": "v",
         "showlegend": true,
         "type": "scatter",
         "x": [
          3681873,
          4075639,
          4690475,
          3276307,
          3134985,
          4344270,
          4173767,
          3754358,
          3896212,
          4504181,
          4584213,
          4104766,
          4765855,
          5626275,
          5477556,
          3909865,
          4215289,
          5117507,
          5314382,
          5046742,
          5314741,
          5910183,
          5934267,
          5560257,
          5199463,
          6107168,
          5942310,
          5573371,
          5542275,
          5648012,
          5737775,
          6139889,
          5928532,
          6655634,
          6917734,
          6110276,
          6606196,
          6559592,
          5869963,
          6223671,
          6401165,
          6154702,
          6149246,
          6664224,
          7123272,
          6428559
         ],
         "xaxis": "x",
         "y": [
          149842,
          260769,
          462532,
          215208,
          187638,
          325328,
          167214,
          218326,
          333280,
          471929,
          467538,
          434447,
          529566,
          627829,
          574741,
          454020,
          389694,
          582035,
          599714,
          590401,
          597257,
          582701,
          653292,
          642877,
          554880,
          613568,
          542154,
          580275,
          554511,
          614596,
          592783,
          643479,
          617576,
          719753,
          771915,
          545898,
          798883,
          779301,
          571088,
          641969,
          733602,
          687647,
          667107,
          820581,
          850791,
          771485
         ],
         "yaxis": "y"
        },
        {
         "hovertemplate": "linea=Linea 8<br>de_pago=%{x}<br>Gratuidad=%{y}<extra></extra>",
         "legendgroup": "Linea 8",
         "marker": {
          "color": "#009A44",
          "symbol": "circle"
         },
         "mode": "markers",
         "name": "Linea 8",
         "orientation": "v",
         "showlegend": true,
         "type": "scatter",
         "x": [
          5026987,
          6411442,
          8305477,
          4693163,
          4455624,
          6223450,
          6457159,
          5297030,
          5692131,
          7564603,
          7432223,
          6690162,
          7804066,
          9313412,
          9802798,
          6669405,
          6955945,
          8241692,
          8357808,
          8394459,
          8449757,
          9599825,
          9936635,
          9425635,
          9013088,
          9236729,
          9079965,
          9537402,
          9045372,
          8933039,
          9513005,
          10266829,
          9576410,
          8663130,
          9280407,
          9418751,
          8879627,
          9080862,
          8992442,
          8574358,
          8644238,
          8572919,
          8657214,
          9169025,
          9269322,
          8777013
         ],
         "xaxis": "x",
         "y": [
          546205,
          718905,
          1015840,
          488616,
          470922,
          733473,
          322524,
          626129,
          816008,
          1016644,
          1052256,
          677975,
          1032476,
          1062019,
          1327238,
          926494,
          637396,
          966453,
          1128112,
          920567,
          1121617,
          1322478,
          1277923,
          970283,
          1342568,
          1428391,
          1331768,
          1285473,
          1328627,
          1531975,
          1594921,
          1408482,
          1646505,
          1391426,
          1231047,
          1153976,
          1620050,
          1571851,
          1475457,
          1592237,
          1590277,
          1569644,
          1536750,
          1661892,
          1650502,
          1589220
         ],
         "yaxis": "y"
        },
        {
         "hovertemplate": "linea=Linea 9<br>de_pago=%{x}<br>Gratuidad=%{y}<extra></extra>",
         "legendgroup": "Linea 9",
         "marker": {
          "color": "#512F2E",
          "symbol": "circle"
         },
         "mode": "markers",
         "name": "Linea 9",
         "orientation": "v",
         "showlegend": true,
         "type": "scatter",
         "x": [
          3736372,
          5195019,
          5788237,
          4721228,
          3873917,
          5139867,
          4584696,
          4231666,
          4241794,
          5607072,
          5639637,
          5096881,
          5791344,
          7271014,
          7399808,
          5081178,
          5315066,
          6501404,
          6109465,
          6254298,
          6487935,
          7701333,
          8113735,
          7275361,
          6934189,
          7653361,
          6471412,
          7255632,
          6970268,
          7070567,
          7119832,
          8001786,
          7642176,
          7061993,
          7527590,
          7063059,
          5982347,
          6019437,
          5635962,
          5590872,
          5856515,
          5675043,
          5496098,
          6091961,
          7497551,
          6226326
         ],
         "xaxis": "x",
         "y": [
          268022,
          441872,
          534554,
          285687,
          259292,
          398349,
          204441,
          285635,
          360603,
          593792,
          594009,
          520615,
          581242,
          817342,
          698585,
          536821,
          442848,
          758783,
          691783,
          616469,
          676095,
          806802,
          886757,
          826339,
          757418,
          745103,
          765281,
          715264,
          720707,
          704013,
          706286,
          845989,
          864150,
          750375,
          734808,
          765983,
          543856,
          528838,
          541422,
          525004,
          470791,
          445977,
          504619,
          559521,
          758962,
          618730
         ],
         "yaxis": "y"
        },
        {
         "hovertemplate": "linea=Linea A<br>de_pago=%{x}<br>Gratuidad=%{y}<extra></extra>",
         "legendgroup": "Linea A",
         "marker": {
          "color": "#981D97",
          "symbol": "circle"
         },
         "mode": "markers",
         "name": "Linea A",
         "orientation": "v",
         "showlegend": true,
         "type": "scatter",
         "x": [
          3895934,
          4359472,
          4911012,
          3463837,
          3504680,
          4521119,
          4373168,
          4199895,
          4191720,
          4729810,
          4948965,
          4472379,
          4998958,
          6459266,
          6027552,
          3843195,
          4437492,
          5533373,
          5207196,
          5383706,
          5352302,
          6130683,
          6525677,
          6225934,
          5464280,
          6022461,
          5354454,
          5763860,
          5584315,
          5431460,
          5758495,
          6327400,
          6024897,
          5260018,
          5651874,
          5813237,
          5106988,
          5017741,
          5020374,
          5019953,
          4737843,
          4748313,
          4875583,
          5179539,
          6031258,
          5154451
         ],
         "xaxis": "x",
         "y": [
          153363,
          201343,
          369779,
          337210,
          187204,
          226571,
          174132,
          291549,
          373706,
          386304,
          303710,
          264067,
          435142,
          703669,
          661642,
          367465,
          233945,
          648030,
          622455,
          379770,
          619298,
          715877,
          700751,
          713480,
          590400,
          660171,
          612834,
          605923,
          532336,
          639466,
          631608,
          647873,
          677490,
          499528,
          581809,
          586184,
          831451,
          816350,
          808647,
          811546,
          747322,
          784515,
          822121,
          817429,
          834721,
          765249
         ],
         "yaxis": "y"
        },
        {
         "hovertemplate": "linea=Linea B<br>de_pago=%{x}<br>Gratuidad=%{y}<extra></extra>",
         "legendgroup": "Linea B",
         "marker": {
          "color": "#B1B3B3",
          "symbol": "circle"
         },
         "mode": "markers",
         "name": "Linea B",
         "orientation": "v",
         "showlegend": true,
         "type": "scatter",
         "x": [
          5546269,
          6523124,
          8816867,
          4943770,
          4707293,
          6724959,
          6341305,
          5733266,
          5958281,
          7978811,
          7852617,
          6726224,
          7932704,
          9409414,
          9784181,
          6988758,
          7177181,
          8273980,
          8408935,
          8804284,
          8797964,
          9539508,
          9757304,
          9339345,
          8662170,
          9427021,
          10246506,
          9070958,
          8622464,
          8952641,
          9026719,
          9779761,
          9422705,
          9142040,
          9758861,
          9640334,
          9459483,
          9597847,
          9243492,
          9268524,
          9014522,
          9092200,
          9116925,
          9722284,
          9940331,
          9366892
         ],
         "xaxis": "x",
         "y": [
          847323,
          628346,
          1085173,
          1075988,
          905717,
          829825,
          107711,
          809726,
          768144,
          1057910,
          577165,
          973188,
          1323628,
          1342555,
          1607758,
          1045792,
          929256,
          1455259,
          1488387,
          801575,
          1507341,
          1631619,
          1611426,
          1516844,
          1466544,
          1633059,
          1460539,
          1548377,
          1404593,
          1608545,
          1602268,
          1637379,
          1666284,
          1149891,
          1319444,
          1447680,
          1409666,
          1370050,
          1445381,
          1401474,
          1214048,
          1273902,
          1337127,
          1485038,
          1391425,
          1309798
         ],
         "yaxis": "y"
        }
       ],
       "layout": {
        "legend": {
         "title": {
          "text": "linea"
         },
         "tracegroupgap": 0
        },
        "template": {
         "data": {
          "bar": [
           {
            "error_x": {
             "color": "#2a3f5f"
            },
            "error_y": {
             "color": "#2a3f5f"
            },
            "marker": {
             "line": {
              "color": "#E5ECF6",
              "width": 0.5
             },
             "pattern": {
              "fillmode": "overlay",
              "size": 10,
              "solidity": 0.2
             }
            },
            "type": "bar"
           }
          ],
          "barpolar": [
           {
            "marker": {
             "line": {
              "color": "#E5ECF6",
              "width": 0.5
             },
             "pattern": {
              "fillmode": "overlay",
              "size": 10,
              "solidity": 0.2
             }
            },
            "type": "barpolar"
           }
          ],
          "carpet": [
           {
            "aaxis": {
             "endlinecolor": "#2a3f5f",
             "gridcolor": "white",
             "linecolor": "white",
             "minorgridcolor": "white",
             "startlinecolor": "#2a3f5f"
            },
            "baxis": {
             "endlinecolor": "#2a3f5f",
             "gridcolor": "white",
             "linecolor": "white",
             "minorgridcolor": "white",
             "startlinecolor": "#2a3f5f"
            },
            "type": "carpet"
           }
          ],
          "choropleth": [
           {
            "colorbar": {
             "outlinewidth": 0,
             "ticks": ""
            },
            "type": "choropleth"
           }
          ],
          "contour": [
           {
            "colorbar": {
             "outlinewidth": 0,
             "ticks": ""
            },
            "colorscale": [
             [
              0,
              "#0d0887"
             ],
             [
              0.1111111111111111,
              "#46039f"
             ],
             [
              0.2222222222222222,
              "#7201a8"
             ],
             [
              0.3333333333333333,
              "#9c179e"
             ],
             [
              0.4444444444444444,
              "#bd3786"
             ],
             [
              0.5555555555555556,
              "#d8576b"
             ],
             [
              0.6666666666666666,
              "#ed7953"
             ],
             [
              0.7777777777777778,
              "#fb9f3a"
             ],
             [
              0.8888888888888888,
              "#fdca26"
             ],
             [
              1,
              "#f0f921"
             ]
            ],
            "type": "contour"
           }
          ],
          "contourcarpet": [
           {
            "colorbar": {
             "outlinewidth": 0,
             "ticks": ""
            },
            "type": "contourcarpet"
           }
          ],
          "heatmap": [
           {
            "colorbar": {
             "outlinewidth": 0,
             "ticks": ""
            },
            "colorscale": [
             [
              0,
              "#0d0887"
             ],
             [
              0.1111111111111111,
              "#46039f"
             ],
             [
              0.2222222222222222,
              "#7201a8"
             ],
             [
              0.3333333333333333,
              "#9c179e"
             ],
             [
              0.4444444444444444,
              "#bd3786"
             ],
             [
              0.5555555555555556,
              "#d8576b"
             ],
             [
              0.6666666666666666,
              "#ed7953"
             ],
             [
              0.7777777777777778,
              "#fb9f3a"
             ],
             [
              0.8888888888888888,
              "#fdca26"
             ],
             [
              1,
              "#f0f921"
             ]
            ],
            "type": "heatmap"
           }
          ],
          "heatmapgl": [
           {
            "colorbar": {
             "outlinewidth": 0,
             "ticks": ""
            },
            "colorscale": [
             [
              0,
              "#0d0887"
             ],
             [
              0.1111111111111111,
              "#46039f"
             ],
             [
              0.2222222222222222,
              "#7201a8"
             ],
             [
              0.3333333333333333,
              "#9c179e"
             ],
             [
              0.4444444444444444,
              "#bd3786"
             ],
             [
              0.5555555555555556,
              "#d8576b"
             ],
             [
              0.6666666666666666,
              "#ed7953"
             ],
             [
              0.7777777777777778,
              "#fb9f3a"
             ],
             [
              0.8888888888888888,
              "#fdca26"
             ],
             [
              1,
              "#f0f921"
             ]
            ],
            "type": "heatmapgl"
           }
          ],
          "histogram": [
           {
            "marker": {
             "pattern": {
              "fillmode": "overlay",
              "size": 10,
              "solidity": 0.2
             }
            },
            "type": "histogram"
           }
          ],
          "histogram2d": [
           {
            "colorbar": {
             "outlinewidth": 0,
             "ticks": ""
            },
            "colorscale": [
             [
              0,
              "#0d0887"
             ],
             [
              0.1111111111111111,
              "#46039f"
             ],
             [
              0.2222222222222222,
              "#7201a8"
             ],
             [
              0.3333333333333333,
              "#9c179e"
             ],
             [
              0.4444444444444444,
              "#bd3786"
             ],
             [
              0.5555555555555556,
              "#d8576b"
             ],
             [
              0.6666666666666666,
              "#ed7953"
             ],
             [
              0.7777777777777778,
              "#fb9f3a"
             ],
             [
              0.8888888888888888,
              "#fdca26"
             ],
             [
              1,
              "#f0f921"
             ]
            ],
            "type": "histogram2d"
           }
          ],
          "histogram2dcontour": [
           {
            "colorbar": {
             "outlinewidth": 0,
             "ticks": ""
            },
            "colorscale": [
             [
              0,
              "#0d0887"
             ],
             [
              0.1111111111111111,
              "#46039f"
             ],
             [
              0.2222222222222222,
              "#7201a8"
             ],
             [
              0.3333333333333333,
              "#9c179e"
             ],
             [
              0.4444444444444444,
              "#bd3786"
             ],
             [
              0.5555555555555556,
              "#d8576b"
             ],
             [
              0.6666666666666666,
              "#ed7953"
             ],
             [
              0.7777777777777778,
              "#fb9f3a"
             ],
             [
              0.8888888888888888,
              "#fdca26"
             ],
             [
              1,
              "#f0f921"
             ]
            ],
            "type": "histogram2dcontour"
           }
          ],
          "mesh3d": [
           {
            "colorbar": {
             "outlinewidth": 0,
             "ticks": ""
            },
            "type": "mesh3d"
           }
          ],
          "parcoords": [
           {
            "line": {
             "colorbar": {
              "outlinewidth": 0,
              "ticks": ""
             }
            },
            "type": "parcoords"
           }
          ],
          "pie": [
           {
            "automargin": true,
            "type": "pie"
           }
          ],
          "scatter": [
           {
            "fillpattern": {
             "fillmode": "overlay",
             "size": 10,
             "solidity": 0.2
            },
            "type": "scatter"
           }
          ],
          "scatter3d": [
           {
            "line": {
             "colorbar": {
              "outlinewidth": 0,
              "ticks": ""
             }
            },
            "marker": {
             "colorbar": {
              "outlinewidth": 0,
              "ticks": ""
             }
            },
            "type": "scatter3d"
           }
          ],
          "scattercarpet": [
           {
            "marker": {
             "colorbar": {
              "outlinewidth": 0,
              "ticks": ""
             }
            },
            "type": "scattercarpet"
           }
          ],
          "scattergeo": [
           {
            "marker": {
             "colorbar": {
              "outlinewidth": 0,
              "ticks": ""
             }
            },
            "type": "scattergeo"
           }
          ],
          "scattergl": [
           {
            "marker": {
             "colorbar": {
              "outlinewidth": 0,
              "ticks": ""
             }
            },
            "type": "scattergl"
           }
          ],
          "scattermapbox": [
           {
            "marker": {
             "colorbar": {
              "outlinewidth": 0,
              "ticks": ""
             }
            },
            "type": "scattermapbox"
           }
          ],
          "scatterpolar": [
           {
            "marker": {
             "colorbar": {
              "outlinewidth": 0,
              "ticks": ""
             }
            },
            "type": "scatterpolar"
           }
          ],
          "scatterpolargl": [
           {
            "marker": {
             "colorbar": {
              "outlinewidth": 0,
              "ticks": ""
             }
            },
            "type": "scatterpolargl"
           }
          ],
          "scatterternary": [
           {
            "marker": {
             "colorbar": {
              "outlinewidth": 0,
              "ticks": ""
             }
            },
            "type": "scatterternary"
           }
          ],
          "surface": [
           {
            "colorbar": {
             "outlinewidth": 0,
             "ticks": ""
            },
            "colorscale": [
             [
              0,
              "#0d0887"
             ],
             [
              0.1111111111111111,
              "#46039f"
             ],
             [
              0.2222222222222222,
              "#7201a8"
             ],
             [
              0.3333333333333333,
              "#9c179e"
             ],
             [
              0.4444444444444444,
              "#bd3786"
             ],
             [
              0.5555555555555556,
              "#d8576b"
             ],
             [
              0.6666666666666666,
              "#ed7953"
             ],
             [
              0.7777777777777778,
              "#fb9f3a"
             ],
             [
              0.8888888888888888,
              "#fdca26"
             ],
             [
              1,
              "#f0f921"
             ]
            ],
            "type": "surface"
           }
          ],
          "table": [
           {
            "cells": {
             "fill": {
              "color": "#EBF0F8"
             },
             "line": {
              "color": "white"
             }
            },
            "header": {
             "fill": {
              "color": "#C8D4E3"
             },
             "line": {
              "color": "white"
             }
            },
            "type": "table"
           }
          ]
         },
         "layout": {
          "annotationdefaults": {
           "arrowcolor": "#2a3f5f",
           "arrowhead": 0,
           "arrowwidth": 1
          },
          "autotypenumbers": "strict",
          "coloraxis": {
           "colorbar": {
            "outlinewidth": 0,
            "ticks": ""
           }
          },
          "colorscale": {
           "diverging": [
            [
             0,
             "#8e0152"
            ],
            [
             0.1,
             "#c51b7d"
            ],
            [
             0.2,
             "#de77ae"
            ],
            [
             0.3,
             "#f1b6da"
            ],
            [
             0.4,
             "#fde0ef"
            ],
            [
             0.5,
             "#f7f7f7"
            ],
            [
             0.6,
             "#e6f5d0"
            ],
            [
             0.7,
             "#b8e186"
            ],
            [
             0.8,
             "#7fbc41"
            ],
            [
             0.9,
             "#4d9221"
            ],
            [
             1,
             "#276419"
            ]
           ],
           "sequential": [
            [
             0,
             "#0d0887"
            ],
            [
             0.1111111111111111,
             "#46039f"
            ],
            [
             0.2222222222222222,
             "#7201a8"
            ],
            [
             0.3333333333333333,
             "#9c179e"
            ],
            [
             0.4444444444444444,
             "#bd3786"
            ],
            [
             0.5555555555555556,
             "#d8576b"
            ],
            [
             0.6666666666666666,
             "#ed7953"
            ],
            [
             0.7777777777777778,
             "#fb9f3a"
            ],
            [
             0.8888888888888888,
             "#fdca26"
            ],
            [
             1,
             "#f0f921"
            ]
           ],
           "sequentialminus": [
            [
             0,
             "#0d0887"
            ],
            [
             0.1111111111111111,
             "#46039f"
            ],
            [
             0.2222222222222222,
             "#7201a8"
            ],
            [
             0.3333333333333333,
             "#9c179e"
            ],
            [
             0.4444444444444444,
             "#bd3786"
            ],
            [
             0.5555555555555556,
             "#d8576b"
            ],
            [
             0.6666666666666666,
             "#ed7953"
            ],
            [
             0.7777777777777778,
             "#fb9f3a"
            ],
            [
             0.8888888888888888,
             "#fdca26"
            ],
            [
             1,
             "#f0f921"
            ]
           ]
          },
          "colorway": [
           "#636efa",
           "#EF553B",
           "#00cc96",
           "#ab63fa",
           "#FFA15A",
           "#19d3f3",
           "#FF6692",
           "#B6E880",
           "#FF97FF",
           "#FECB52"
          ],
          "font": {
           "color": "#2a3f5f"
          },
          "geo": {
           "bgcolor": "white",
           "lakecolor": "white",
           "landcolor": "#E5ECF6",
           "showlakes": true,
           "showland": true,
           "subunitcolor": "white"
          },
          "hoverlabel": {
           "align": "left"
          },
          "hovermode": "closest",
          "mapbox": {
           "style": "light"
          },
          "paper_bgcolor": "white",
          "plot_bgcolor": "#E5ECF6",
          "polar": {
           "angularaxis": {
            "gridcolor": "white",
            "linecolor": "white",
            "ticks": ""
           },
           "bgcolor": "#E5ECF6",
           "radialaxis": {
            "gridcolor": "white",
            "linecolor": "white",
            "ticks": ""
           }
          },
          "scene": {
           "xaxis": {
            "backgroundcolor": "#E5ECF6",
            "gridcolor": "white",
            "gridwidth": 2,
            "linecolor": "white",
            "showbackground": true,
            "ticks": "",
            "zerolinecolor": "white"
           },
           "yaxis": {
            "backgroundcolor": "#E5ECF6",
            "gridcolor": "white",
            "gridwidth": 2,
            "linecolor": "white",
            "showbackground": true,
            "ticks": "",
            "zerolinecolor": "white"
           },
           "zaxis": {
            "backgroundcolor": "#E5ECF6",
            "gridcolor": "white",
            "gridwidth": 2,
            "linecolor": "white",
            "showbackground": true,
            "ticks": "",
            "zerolinecolor": "white"
           }
          },
          "shapedefaults": {
           "line": {
            "color": "#2a3f5f"
           }
          },
          "ternary": {
           "aaxis": {
            "gridcolor": "white",
            "linecolor": "white",
            "ticks": ""
           },
           "baxis": {
            "gridcolor": "white",
            "linecolor": "white",
            "ticks": ""
           },
           "bgcolor": "#E5ECF6",
           "caxis": {
            "gridcolor": "white",
            "linecolor": "white",
            "ticks": ""
           }
          },
          "title": {
           "x": 0.05
          },
          "xaxis": {
           "automargin": true,
           "gridcolor": "white",
           "linecolor": "white",
           "ticks": "",
           "title": {
            "standoff": 15
           },
           "zerolinecolor": "white",
           "zerolinewidth": 2
          },
          "yaxis": {
           "automargin": true,
           "gridcolor": "white",
           "linecolor": "white",
           "ticks": "",
           "title": {
            "standoff": 15
           },
           "zerolinecolor": "white",
           "zerolinewidth": 2
          }
         }
        },
        "title": {
         "text": "Afluencia total: Usuarios que pagan vs Usuarios gratuitos (color por linea)"
        },
        "xaxis": {
         "anchor": "y",
         "domain": [
          0,
          1
         ],
         "title": {
          "text": "Usuarios que pagan"
         }
        },
        "yaxis": {
         "anchor": "x",
         "domain": [
          0,
          1
         ],
         "title": {
          "text": "Usuarios gratuitos"
         }
        }
       }
      }
     },
     "metadata": {},
     "output_type": "display_data"
    }
   ],
   "source": [
    "fig = px.scatter(graf2d, x=\"de_pago\", y=\"Gratuidad\", color=\"linea\", color_discrete_map= colores,\n",
    "                 title=\"Afluencia total: Usuarios que pagan vs Usuarios gratuitos (color por linea)\")\n",
    "fig.update_layout(\n",
    "    xaxis_title=\"Usuarios que pagan\",\n",
    "    yaxis_title=\"Usuarios gratuitos\")\n",
    "fig.show()"
   ]
  }
 ],
 "metadata": {
  "kernelspec": {
   "display_name": "TT_render",
   "language": "python",
   "name": "python3"
  },
  "language_info": {
   "codemirror_mode": {
    "name": "ipython",
    "version": 3
   },
   "file_extension": ".py",
   "mimetype": "text/x-python",
   "name": "python",
   "nbconvert_exporter": "python",
   "pygments_lexer": "ipython3",
   "version": "3.9.20"
  }
 },
 "nbformat": 4,
 "nbformat_minor": 2
}
